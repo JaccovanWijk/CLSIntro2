{
 "cells": [
  {
   "cell_type": "code",
   "execution_count": 8,
   "id": "03d34170",
   "metadata": {
    "scrolled": false
   },
   "outputs": [],
   "source": [
    "import matplotlib.pyplot as plt\n",
    "import numpy as np\n",
    "from scipy.integrate import odeint\n",
    "import random\n",
    "import pandas as pd"
   ]
  },
  {
   "cell_type": "code",
   "id": "a6fe2c53",
   "metadata": {
    "pycharm": {
     "name": "#%% md  \n"
    }
   },
   "source": [
    "Functions & defs"
   ],
   "execution_count": 1,
   "outputs": []
  },
  {
   "cell_type": "code",
   "execution_count": null,
   "outputs": [],
   "source": [
    "def ode_demo(y,t,b,g,m):\n",
    "    \"\"\"\n",
    "    Differential equation of a SIR model with equal birth and deathrate.\n",
    "    \n",
    "    Arguments:\n",
    "    y -- \n",
    "    t -- time index (days)\n",
    "    b -- beta parameter (infectiousness)\n",
    "    g -- gamma parameter (recovery rate)\n",
    "    m -- mu parameter (birth and deathrate)\n",
    "    \"\"\"\n",
    "    s,i,r = y\n",
    "    dsdt = m - b * s * i - m * s\n",
    "    didt = b * s * i - g * i - m * i\n",
    "    drdt = g * i - m * r\n",
    "    \n",
    "    return dsdt, didt, drdt\n",
    "\n",
    "\n",
    "def SIR_events(S,I,R,p):\n",
    "    \n",
    "    extinctions = 0\n",
    "    # Death S\n",
    "    if p == 0:\n",
    "        S.append(S[-1] - 1 + 1)\n",
    "        I.append(I[-1])\n",
    "        R.append(R[-1])\n",
    "    \n",
    "    # Infection\n",
    "    elif p == 1:\n",
    "        S.append(S[-1] - 1)\n",
    "        I.append(I[-1] + 1)\n",
    "        R.append(R[-1])\n",
    "        \n",
    "    # Death I\n",
    "    elif p == 2:\n",
    "        S.append(S[-1] + 1)\n",
    "        I.append(I[-1] - 1)\n",
    "        R.append(R[-1])\n",
    "        \n",
    "        # extinctions\n",
    "        if I[-1] < 1:\n",
    "            extinctions = 1\n",
    "    \n",
    "    # Recovered\n",
    "    elif p == 3:\n",
    "        S.append(S[-1])\n",
    "        I.append(I[-1] - 1)\n",
    "        R.append(R[-1] + 1)\n",
    "        \n",
    "        # extinctions\n",
    "        if I[-1] < 1:\n",
    "            extinctions = 1\n",
    "    \n",
    "    # Death R\n",
    "    elif p == 4:\n",
    "        S.append(S[-1] + 1)\n",
    "        I.append(I[-1])\n",
    "        R.append(R[-1] - 1)\n",
    "        \n",
    "    # Import\n",
    "    elif p == 5:\n",
    "        S.append(S[-1] - 1)\n",
    "        I.append(I[-1] + 1)\n",
    "        R.append(R[-1])\n",
    "        \n",
    "    return S, I, R, extinctions\n",
    "    \n",
    "        \n",
    "def SIR_demo(n, max_t, beta, gamma, mu):\n",
    "    S = [0.99*n]\n",
    "    I = [0.01*n]\n",
    "    R = [0]\n",
    "    t = [0]\n",
    "\n",
    "    while t[-1] < max_t:\n",
    "        # Set rates\n",
    "        rates = [mu * S[-1], beta * S[-1] * I[-1] / n,  # rate(S)\n",
    "                mu * I[-1], gamma * I[-1],  # rate(I)\n",
    "                mu * R[-1]]  # rate(R)\n",
    "\n",
    "        rates_sum = sum(rates)\n",
    "        dt = -1*np.log(np.random.random()) / rates_sum\n",
    "        t.append(t[-1] + dt)\n",
    "\n",
    "        rand = np.random.random()\n",
    "        \n",
    "        p = 0\n",
    "        for i in range(len(rates)):\n",
    "            if rand * rates_sum < sum(rates[:i+1]):\n",
    "                p = i\n",
    "                break\n",
    "        \n",
    "        S, I, R, e = SIR_events(S,I,R,p)\n",
    "\n",
    "    return S, I, R, t\n",
    "\n",
    "\n",
    "def SIR_import(n, max_t, beta, gamma, mu, epsilon):\n",
    "    S = [n]\n",
    "    I = [0]\n",
    "    R = [0]\n",
    "    t = [0]\n",
    "    extinctions = 0\n",
    "\n",
    "    while t[-1] < max_t:\n",
    "        # Set rates\n",
    "        rates = [mu * S[-1], beta * S[-1] * I[-1] / n,  # rate(S)\n",
    "                mu * I[-1], gamma * I[-1],  # rate(I)\n",
    "                mu * R[-1],  # rate(R)\n",
    "                epsilon * S[-1]] # Import\n",
    "\n",
    "        rates_sum = sum(rates)\n",
    "        dt = -1*np.log(np.random.random()) / rates_sum\n",
    "        t.append(t[-1] + dt)\n",
    "\n",
    "        rand = np.random.random()\n",
    "        \n",
    "        p = 0\n",
    "        for i in range(len(rates)):\n",
    "            if rand * rates_sum < sum(rates[:i+1]):\n",
    "                p = i\n",
    "                break\n",
    "                \n",
    "        S, I, R, e = SIR_events(S,I,R,p)\n",
    "        extinctions += e\n",
    "\n",
    "    return S, I, R, t, extinctions"
   ],
   "metadata": {
    "collapsed": false,
    "pycharm": {
     "name": "#%%\n"
    }
   }
  },
  {
   "cell_type": "markdown",
   "id": "f809aa9d",
   "metadata": {
    "scrolled": false,
    "pycharm": {
     "name": "#%% md\n"
    }
   },
   "source": [
    "Hallmark: Variability"
   ]
  },
  {
   "cell_type": "code",
   "execution_count": null,
   "outputs": [],
   "source": [
    "beta = 1.0\n",
    "gamma = 0.2\n",
    "mu = 0.01\n",
    "population = 1000\n",
    "max_t = 100\n",
    "\n",
    "s, i, r, t = SIR_demo(population, max_t, beta, gamma, mu)\n",
    "\n",
    "# Integrate ODE using odeint\n",
    "time = np.linspace(0, max_t, max_t*10)\n",
    "y0 = 0.99, 0.01, 0\n",
    "integrated = odeint(ode_demo, y0, time, args=(beta, gamma, mu))\n",
    "s_ode, i_ode, r_ode = integrated.T\n",
    "\n",
    "plt.figure()\n",
    "plt.plot(t, s, color='b')\n",
    "plt.plot(t, i, color='r')\n",
    "plt.plot(t, r, color='g')\n",
    "plt.plot(time, s_ode*population, color='b', linestyle='--')\n",
    "plt.plot(time, i_ode*population, color='r', linestyle='--')\n",
    "plt.plot(time, r_ode*population, color='g', linestyle='--')\n",
    "# plt.ylim(-0.05 * population,1.05 * population)\n",
    "plt.show()\n",
    "\n",
    "#####\n",
    "### IK DENK DAT DIT FOUT GAAT OMDAT WE ER VAN UIT GAAN DAT ALLE TIJDSSTAPPEN GELIJK ZIJN\n",
    "#####\n",
    "for i in range(10): #Todo: hoger?\n",
    "    S, I, R, T = SIR_demo(population, max_t, beta, gamma, mu)\n",
    "    if i == 0:\n",
    "        data_S = {'Srun0': S}\n",
    "        data_I = {'Irun0': I}\n",
    "        data_R = {'Rrun0': R}\n",
    "        data_T = {'Trun0': T}\n",
    "        dfS = pd.DataFrame(data_S)\n",
    "        dfI = pd.DataFrame(data_I)\n",
    "        dfR = pd.DataFrame(data_R)\n",
    "        dfT = pd.DataFrame(data_T)\n",
    "    elif i != 0:\n",
    "        temp_dfS = pd.DataFrame({f'Srun{i}': S})\n",
    "        dfS = pd.concat([dfS, temp_dfS], axis=1)\n",
    "        temp_dfI = pd.DataFrame({f'Irun{i}': I})\n",
    "        dfI = pd.concat([dfI, temp_dfI], axis=1)\n",
    "        temp_dfR = pd.DataFrame({f'Rrun{i}': R})\n",
    "        dfR = pd.concat([dfR, temp_dfR], axis=1)\n",
    "        temp_dfT = pd.DataFrame({f'Trun{i}': T})\n",
    "        dfT = pd.concat([dfT, temp_dfT], axis=1)\n",
    "\n",
    "# index = 0\n",
    "# timesteps = 0.01 * max_t\n",
    "# current_time = 0\n",
    "# meanS = []\n",
    "# meanI = []\n",
    "# meanR = []\n",
    "# while len(current_S < max_t):\n",
    "#     current_S = dfS.mean(axis=1, skipna=True)[index]\n",
    "#     print(current_S)\n",
    "#     current_I = dfI.mean(axis=1, skipna=True)[index]\n",
    "#     current_R = dfR.mean(axis=1, skipna=True)[index]\n",
    "#     meanS.appen(current_S)\n",
    "#     meanI.appen(current_I)\n",
    "#     meanR.appen(current_R)\n",
    "    \n",
    "#     if current_time > timesteps:\n",
    "#         current_time = 0\n",
    "#         mean_S.append(current_S)\n",
    "#         mean_I.append(current_I)\n",
    "#         mean_R.append(current_R)\n",
    "#         current_S = 0\n",
    "#         current_I = 0\n",
    "#         current_R = 0\n",
    "#     else:\n",
    "#         current_time += \n",
    "\n",
    "# def scale_time(df, dft, max_t):\n",
    "#     data = []\n",
    "#     timesteps = max_t * 0.01\n",
    "#     current_time = 0\n",
    "#     index = 0\n",
    "#     while \n",
    "    \n",
    "        \n",
    "meanS = dfS.mean(axis=1, skipna=True)\n",
    "stdS = dfS.std(axis=1, skipna=True)\n",
    "meanI = dfI.mean(axis=1, skipna=True)\n",
    "stdI = dfI.std(axis=1, skipna=True)\n",
    "meanR = dfR.mean(axis=1, skipna=True)\n",
    "stdR = dfR.std(axis=1, skipna=True)\n",
    "\n",
    "time = np.linspace(0, max_t, len(meanI))\n",
    "y0 = 0.99, 0.01, 0\n",
    "integrated = odeint(ode_demo, y0, time, args=(beta, gamma, mu))\n",
    "s_ode, i_ode, r_ode = integrated.T\n",
    "\n",
    "plt.figure()\n",
    "plt.plot(time,meanS, label='S', color='b')\n",
    "plt.plot(time,meanI, label='I', color='r')\n",
    "plt.plot(time,meanR, label='R', color='g')\n",
    "plt.plot(time,s_ode*population, color='b', linestyle='--')\n",
    "plt.plot(time,i_ode*population, color='r', linestyle='--')\n",
    "plt.plot(time,r_ode*population, color='g', linestyle='--')\n",
    "\n",
    "plt.fill_between(time, meanS - stdS, meanS + stdS,\n",
    "                      color='b', alpha=0.2)\n",
    "plt.fill_between(time, meanI - stdI, meanI + stdI,\n",
    "                      color='r', alpha=0.2)\n",
    "plt.fill_between(time, meanR - stdR, meanR + stdR,\n",
    "                      color='g', alpha=0.2)\n",
    "\n",
    "plt.legend(loc=1)\n",
    "plt.show()\n",
    "\n",
    "plt.figure()\n",
    "plt.plot(time,np.abs(meanS - s_ode*population)/population)\n",
    "plt.plot(time,np.abs(meanI - i_ode*population)/population)\n",
    "plt.plot(time,np.abs(meanR - r_ode*population)/population)\n",
    "plt.show()"
   ],
   "metadata": {
    "collapsed": false,
    "pycharm": {
     "name": "#%%\n"
    }
   }
  },
  {
   "cell_type": "markdown",
   "id": "797c9ad6",
   "metadata": {
    "pycharm": {
     "name": "#%% md\n"
    }
   },
   "source": [
    "Test"
   ]
  },
  {
   "cell_type": "code",
   "execution_count": null,
   "outputs": [],
   "source": [
    "beta = 0.75\n",
    "gamma = 0.25\n",
    "mu = 0.05\n",
    "population = 1000\n",
    "max_t = 60\n",
    "epsilon = 5.5 * 10 ** -5 * np.sqrt(population) # TODO: Klopt dit wel? Kijk in boek\n",
    "\n",
    "s, i, r, t, e = SIR_import(population, max_t, beta, gamma, mu, epsilon)\n",
    "\n",
    "plt.figure()\n",
    "plt.plot(t, s)\n",
    "plt.plot(t, i)\n",
    "plt.plot(t, r)\n",
    "plt.show()"
   ],
   "metadata": {
    "collapsed": false,
    "pycharm": {
     "name": "#%%\n"
    }
   }
  },
  {
   "cell_type": "markdown",
   "id": "aec0feb5",
   "metadata": {
    "pycharm": {
     "name": "#%% md\n"
    }
   },
   "source": [
    "Hallmark: necative (co)-variances"
   ]
  },
  {
   "cell_type": "code",
   "execution_count": null,
   "outputs": [],
   "source": [
    "beta = 2\n",
    "gamma = 0.5\n",
    "mu = 0.1\n",
    "population = 1000\n",
    "max_t = 60\n",
    "epsilon = 5.5 * 10 ** (-5) * np.sqrt(population)\n",
    "covlist= []\n",
    "noiselist = []\n",
    "\n",
    "\n",
    "for i in range(1000):\n",
    "    S, I, R, T, Ext = SIR_import(population, max_t, beta, gamma, mu, epsilon)\n",
    "    cov = np.cov(S, I)[0, 1]\n",
    "    covlist.append(cov)\n",
    "    noise = np.std(S)\n",
    "    noiselist.append(noise)\n",
    "\n",
    "\n",
    "m, b = np.polyfit(noiselist, covlist, 1)  # fit line through data\n",
    "\n",
    "x = np.sort(np.array(noiselist))\n",
    "\n",
    "plt.figure()\n",
    "plt.plot(noiselist, covlist, '.')\n",
    "plt.plot(x, m*x+b)\n",
    "#plt.xscale('symlog')\n",
    "plt.yscale('symlog', linthresh=0.01)\n",
    "#plt.ylim(np.min(covlist)*1.5, 0)\n",
    "plt.xlabel('variance of noise [std(S)]')\n",
    "plt.ylabel('covariance between S and I')\n",
    "plt.show()"
   ],
   "metadata": {
    "collapsed": false,
    "pycharm": {
     "name": "#%%\n"
    }
   }
  },
  {
   "cell_type": "markdown",
   "id": "b95b10a9",
   "metadata": {
    "pycharm": {
     "name": "#%% md\n"
    }
   },
   "source": [
    "Extinctions"
   ]
  },
  {
   "cell_type": "code",
   "execution_count": null,
   "outputs": [],
   "source": [
    "def fit_function(x, a, b):\n",
    "    return a*np.exp(-b*x)\n",
    "\n",
    "\n",
    "beta = 1.48\n",
    "gamma = 0.14\n",
    "mu = 0.02\n",
    "population = np.linspace(0, 200, 20)\n",
    "max_t = 3600\n",
    "ext_list_mean = []\n",
    "\n",
    "for pop in population:\n",
    "    ext_list = []\n",
    "    for i in range(10):\n",
    "        epsilon = 5.5 * 10 ** (-5) * np.sqrt(pop)\n",
    "        S, I, R, T, Ext = SIR_import(pop, max_t, beta, gamma, mu, epsilon)\n",
    "        ext_list.append(Ext)\n",
    "    ext_list_mean.append(np.mean(ext_list))\n",
    "\n",
    "popt, pcov = curve_fit(fit_function, np.array(population), np.array(ext_list_mean))\n",
    "\n",
    "fitted = fit_function(np.array(population), popt[0], popt[1])\n",
    "\n",
    "plt.figure()\n",
    "plt.plot(population, ext_list_mean, '.')\n",
    "plt.plot(population, fitted)\n",
    "plt.xlabel(\"population size\")\n",
    "plt.ylabel(\"mean number of extinctions per ...\")\n",
    "\n"
   ],
   "metadata": {
    "collapsed": false,
    "pycharm": {
     "name": "#%%\n"
    }
   }
  }
 ],
 "metadata": {
  "kernelspec": {
   "display_name": "Python 3",
   "language": "python",
   "name": "python3"
  },
  "language_info": {
   "codemirror_mode": {
    "name": "ipython",
    "version": 3
   },
   "file_extension": ".py",
   "mimetype": "text/x-python",
   "name": "python",
   "nbconvert_exporter": "python",
   "pygments_lexer": "ipython3",
   "version": "3.8.8"
  }
 },
 "nbformat": 4,
 "nbformat_minor": 5
}