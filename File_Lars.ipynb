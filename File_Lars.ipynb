{
 "cells": [
  {
   "cell_type": "code",
   "execution_count": 18,
   "metadata": {
    "collapsed": true
   },
   "outputs": [
    {
     "name": "stdout",
     "output_type": "stream",
     "text": [
      "3.4.3\n"
     ]
    }
   ],
   "source": [
    "\n",
    "\n",
    "import matplotlib.pyplot as plt\n",
    "import numpy as np\n",
    "from scipy.integrate import odeint\n",
    "import random\n",
    "import pandas as pd\n",
    "\n"
   ]
  },
  {
   "cell_type": "code",
   "execution_count": 19,
   "outputs": [],
   "source": [
    "\n",
    "def ode_demo(y,t,b,g,m):\n",
    "    \"\"\"\n",
    "    Differential equation of a SIR model with equal birth and deathrate.\n",
    "\n",
    "    Arguments:\n",
    "    y --\n",
    "    t -- time index (days)\n",
    "    b -- beta parameter (infectiousness)\n",
    "    g -- gamma parameter (recovery rate)\n",
    "    m -- mu parameter (birth and deathrate)\n",
    "    \"\"\"\n",
    "    s,i,r = y\n",
    "    dsdt = m - b * s * i - m * s\n",
    "    didt = b * s * i - g * i - m * i\n",
    "    drdt = g * i - m * r\n",
    "\n",
    "    return dsdt, didt, drdt\n",
    "\n",
    "def SIR_demo(n, max_t, beta, gamma, mu):\n",
    "  S = [0.99*n]\n",
    "  I = [0.01*n]\n",
    "  R = [0]\n",
    "  t = [0]\n",
    "\n",
    "  while t[-1] < max_t:\n",
    "    # Set rates\n",
    "    rates = [mu * S[-1], beta * S[-1] * I[-1] / n,  # rate(S)\n",
    "            mu * I[-1], gamma * I[-1],  # rate(I)\n",
    "            mu * R[-1]]  # rate(R)\n",
    "\n",
    "    rates_sum = sum(rates)\n",
    "    dt = -1*np.log(np.random.random()) / rates_sum\n",
    "    t.append(t[-1] + dt)\n",
    "\n",
    "    rand = np.random.random()\n",
    "\n",
    "    # Death S\n",
    "    if rand * rates_sum < rates[0]:\n",
    "        S.append(S[-1] - 1 + 1)\n",
    "        I.append(I[-1])\n",
    "        R.append(R[-1])\n",
    "\n",
    "    # Infection\n",
    "    elif rand * rates_sum > rates[0] and rand * rates_sum < sum(rates[:2]):\n",
    "        S.append(S[-1] - 1)\n",
    "        I.append(I[-1] + 1)\n",
    "        R.append(R[-1])\n",
    "\n",
    "    # Death I\n",
    "    elif rand * rates_sum > sum(rates[:2]) and rand * rates_sum < sum(rates[:3]):\n",
    "        S.append(S[-1] + 1)\n",
    "        I.append(I[-1] - 1)\n",
    "        R.append(R[-1])\n",
    "\n",
    "    # Recovered\n",
    "    elif rand * rates_sum > sum(rates[:3]) and rand * rates_sum < sum(rates[:4]):\n",
    "        S.append(S[-1])\n",
    "        I.append(I[-1] - 1)\n",
    "        R.append(R[-1] + 1)\n",
    "\n",
    "    # Death R\n",
    "    elif rand * rates_sum > sum(rates[:4]) and rand * rates_sum < sum(rates[:5]):\n",
    "        S.append(S[-1] + 1)\n",
    "        I.append(I[-1])\n",
    "        R.append(R[-1] - 1)\n",
    "\n",
    "  return S, I, R, t\n",
    "\n",
    "\n",
    "\n",
    "def SIR_import(n, max_t, beta, gamma, mu, epsilon):\n",
    "  S = [n]\n",
    "  I = [0]\n",
    "  R = [0]\n",
    "  t = [0]\n",
    "  extinctions = 0\n",
    "\n",
    "  while t[-1] < max_t:\n",
    "    # Set rates\n",
    "    rates = [mu * S[-1], beta * S[-1] * I[-1] / n,  # rate(S)\n",
    "            mu * I[-1], gamma * I[-1],  # rate(I)\n",
    "            mu * R[-1],  # rate(R)\n",
    "            epsilon * S[-1]] # Import\n",
    "\n",
    "    rates_sum = sum(rates)\n",
    "    dt = -1*np.log(np.random.random()) / rates_sum\n",
    "    t.append(t[-1] + dt)\n",
    "\n",
    "    rand = np.random.random()\n",
    "\n",
    "    # Death S\n",
    "    if rand * rates_sum < rates[0]:\n",
    "        S.append(S[-1] - 1 + 1)\n",
    "        I.append(I[-1])\n",
    "        R.append(R[-1])\n",
    "\n",
    "    # Infection\n",
    "    elif rand * rates_sum > rates[0] and rand * rates_sum < sum(rates[:2]):\n",
    "        S.append(S[-1] - 1)\n",
    "        I.append(I[-1] + 1)\n",
    "        R.append(R[-1])\n",
    "\n",
    "    # Death I\n",
    "    elif rand * rates_sum > sum(rates[:2]) and rand * rates_sum < sum(rates[:3]):\n",
    "        S.append(S[-1] + 1)\n",
    "        I.append(I[-1] - 1)\n",
    "        R.append(R[-1])\n",
    "\n",
    "        # Extinctions\n",
    "        if I[-1] < 1:\n",
    "          extinctions += 1\n",
    "\n",
    "    # Recovered\n",
    "    elif rand * rates_sum > sum(rates[:3]) and rand * rates_sum < sum(rates[:4]):\n",
    "        S.append(S[-1])\n",
    "        I.append(I[-1] - 1)\n",
    "        R.append(R[-1] + 1)\n",
    "\n",
    "        # Extinctions\n",
    "        if I[-1] < 1:\n",
    "          extinctions += 1\n",
    "\n",
    "    # Death R\n",
    "    elif rand * rates_sum > sum(rates[:4]) and rand * rates_sum < sum(rates[:5]):\n",
    "        S.append(S[-1] + 1)\n",
    "        I.append(I[-1])\n",
    "        R.append(R[-1] - 1)\n",
    "\n",
    "    # Import\n",
    "    elif rand * rates_sum > sum(rates[:5]) and rand * rates_sum < rates_sum:\n",
    "        S.append(S[-1] - 1)\n",
    "        I.append(I[-1] + 1)\n",
    "        R.append(R[-1])\n",
    "\n",
    "  return S, I, R, t, extinctions"
   ],
   "metadata": {
    "collapsed": false,
    "pycharm": {
     "name": "#%%\n"
    }
   }
  },
  {
   "cell_type": "code",
   "execution_count": 20,
   "outputs": [
    {
     "ename": "TypeError",
     "evalue": "__init__() got an unexpected keyword argument 'lintreshy'",
     "output_type": "error",
     "traceback": [
      "\u001B[1;31m---------------------------------------------------------------------------\u001B[0m",
      "\u001B[1;31mTypeError\u001B[0m                                 Traceback (most recent call last)",
      "\u001B[1;32m~\\AppData\\Local\\Temp/ipykernel_1752/4130320472.py\u001B[0m in \u001B[0;36m<module>\u001B[1;34m\u001B[0m\n\u001B[0;32m     18\u001B[0m \u001B[0mplt\u001B[0m\u001B[1;33m.\u001B[0m\u001B[0mfigure\u001B[0m\u001B[1;33m(\u001B[0m\u001B[1;33m)\u001B[0m\u001B[1;33m\u001B[0m\u001B[1;33m\u001B[0m\u001B[0m\n\u001B[0;32m     19\u001B[0m \u001B[0mplt\u001B[0m\u001B[1;33m.\u001B[0m\u001B[0mplot\u001B[0m\u001B[1;33m(\u001B[0m\u001B[0mnoiselist\u001B[0m\u001B[1;33m,\u001B[0m \u001B[0mcovlist\u001B[0m\u001B[1;33m,\u001B[0m \u001B[1;34m'.'\u001B[0m\u001B[1;33m)\u001B[0m\u001B[1;33m\u001B[0m\u001B[1;33m\u001B[0m\u001B[0m\n\u001B[1;32m---> 20\u001B[1;33m \u001B[0mplt\u001B[0m\u001B[1;33m.\u001B[0m\u001B[0myscale\u001B[0m\u001B[1;33m(\u001B[0m\u001B[1;34m'symlog'\u001B[0m\u001B[1;33m,\u001B[0m \u001B[0mlintreshy\u001B[0m\u001B[1;33m=\u001B[0m\u001B[1;36m0.01\u001B[0m\u001B[1;33m)\u001B[0m\u001B[1;33m\u001B[0m\u001B[1;33m\u001B[0m\u001B[0m\n\u001B[0m\u001B[0;32m     21\u001B[0m \u001B[0mplt\u001B[0m\u001B[1;33m.\u001B[0m\u001B[0mylim\u001B[0m\u001B[1;33m(\u001B[0m\u001B[0mnp\u001B[0m\u001B[1;33m.\u001B[0m\u001B[0mmin\u001B[0m\u001B[1;33m(\u001B[0m\u001B[0mcovlist\u001B[0m\u001B[1;33m)\u001B[0m\u001B[1;33m*\u001B[0m\u001B[1;36m1.5\u001B[0m\u001B[1;33m,\u001B[0m \u001B[1;36m0\u001B[0m\u001B[1;33m)\u001B[0m\u001B[1;33m\u001B[0m\u001B[1;33m\u001B[0m\u001B[0m\n\u001B[0;32m     22\u001B[0m \u001B[0mplt\u001B[0m\u001B[1;33m.\u001B[0m\u001B[0mxlim\u001B[0m\u001B[1;33m(\u001B[0m\u001B[1;36m2\u001B[0m\u001B[1;33m*\u001B[0m\u001B[0mnp\u001B[0m\u001B[1;33m.\u001B[0m\u001B[0mexp\u001B[0m\u001B[1;33m(\u001B[0m\u001B[1;33m)\u001B[0m\u001B[1;33m**\u001B[0m\u001B[1;36m2\u001B[0m\u001B[1;33m)\u001B[0m\u001B[1;33m\u001B[0m\u001B[1;33m\u001B[0m\u001B[0m\n",
      "\u001B[1;32mc:\\users\\larsg\\pycharmprojects\\computationalscience\\2021-2022\\introductiontocomputationalscience\\assignment2\\venv\\lib\\site-packages\\matplotlib\\pyplot.py\u001B[0m in \u001B[0;36myscale\u001B[1;34m(value, **kwargs)\u001B[0m\n\u001B[0;32m   3314\u001B[0m \u001B[1;33m@\u001B[0m\u001B[0m_copy_docstring_and_deprecators\u001B[0m\u001B[1;33m(\u001B[0m\u001B[0mAxes\u001B[0m\u001B[1;33m.\u001B[0m\u001B[0mset_yscale\u001B[0m\u001B[1;33m)\u001B[0m\u001B[1;33m\u001B[0m\u001B[1;33m\u001B[0m\u001B[0m\n\u001B[0;32m   3315\u001B[0m \u001B[1;32mdef\u001B[0m \u001B[0myscale\u001B[0m\u001B[1;33m(\u001B[0m\u001B[0mvalue\u001B[0m\u001B[1;33m,\u001B[0m \u001B[1;33m**\u001B[0m\u001B[0mkwargs\u001B[0m\u001B[1;33m)\u001B[0m\u001B[1;33m:\u001B[0m\u001B[1;33m\u001B[0m\u001B[1;33m\u001B[0m\u001B[0m\n\u001B[1;32m-> 3316\u001B[1;33m     \u001B[1;32mreturn\u001B[0m \u001B[0mgca\u001B[0m\u001B[1;33m(\u001B[0m\u001B[1;33m)\u001B[0m\u001B[1;33m.\u001B[0m\u001B[0mset_yscale\u001B[0m\u001B[1;33m(\u001B[0m\u001B[0mvalue\u001B[0m\u001B[1;33m,\u001B[0m \u001B[1;33m**\u001B[0m\u001B[0mkwargs\u001B[0m\u001B[1;33m)\u001B[0m\u001B[1;33m\u001B[0m\u001B[1;33m\u001B[0m\u001B[0m\n\u001B[0m\u001B[0;32m   3317\u001B[0m \u001B[1;33m\u001B[0m\u001B[0m\n\u001B[0;32m   3318\u001B[0m \u001B[1;33m\u001B[0m\u001B[0m\n",
      "\u001B[1;32mc:\\users\\larsg\\pycharmprojects\\computationalscience\\2021-2022\\introductiontocomputationalscience\\assignment2\\venv\\lib\\site-packages\\matplotlib\\axes\\_base.py\u001B[0m in \u001B[0;36mset_yscale\u001B[1;34m(self, value, **kwargs)\u001B[0m\n\u001B[0;32m   3936\u001B[0m         \u001B[0mg\u001B[0m \u001B[1;33m=\u001B[0m \u001B[0mself\u001B[0m\u001B[1;33m.\u001B[0m\u001B[0mget_shared_y_axes\u001B[0m\u001B[1;33m(\u001B[0m\u001B[1;33m)\u001B[0m\u001B[1;33m\u001B[0m\u001B[1;33m\u001B[0m\u001B[0m\n\u001B[0;32m   3937\u001B[0m         \u001B[1;32mfor\u001B[0m \u001B[0max\u001B[0m \u001B[1;32min\u001B[0m \u001B[0mg\u001B[0m\u001B[1;33m.\u001B[0m\u001B[0mget_siblings\u001B[0m\u001B[1;33m(\u001B[0m\u001B[0mself\u001B[0m\u001B[1;33m)\u001B[0m\u001B[1;33m:\u001B[0m\u001B[1;33m\u001B[0m\u001B[1;33m\u001B[0m\u001B[0m\n\u001B[1;32m-> 3938\u001B[1;33m             \u001B[0max\u001B[0m\u001B[1;33m.\u001B[0m\u001B[0myaxis\u001B[0m\u001B[1;33m.\u001B[0m\u001B[0m_set_scale\u001B[0m\u001B[1;33m(\u001B[0m\u001B[0mvalue\u001B[0m\u001B[1;33m,\u001B[0m \u001B[1;33m**\u001B[0m\u001B[0mkwargs\u001B[0m\u001B[1;33m)\u001B[0m\u001B[1;33m\u001B[0m\u001B[1;33m\u001B[0m\u001B[0m\n\u001B[0m\u001B[0;32m   3939\u001B[0m             \u001B[0max\u001B[0m\u001B[1;33m.\u001B[0m\u001B[0m_update_transScale\u001B[0m\u001B[1;33m(\u001B[0m\u001B[1;33m)\u001B[0m\u001B[1;33m\u001B[0m\u001B[1;33m\u001B[0m\u001B[0m\n\u001B[0;32m   3940\u001B[0m             \u001B[0max\u001B[0m\u001B[1;33m.\u001B[0m\u001B[0mstale\u001B[0m \u001B[1;33m=\u001B[0m \u001B[1;32mTrue\u001B[0m\u001B[1;33m\u001B[0m\u001B[1;33m\u001B[0m\u001B[0m\n",
      "\u001B[1;32mc:\\users\\larsg\\pycharmprojects\\computationalscience\\2021-2022\\introductiontocomputationalscience\\assignment2\\venv\\lib\\site-packages\\matplotlib\\axis.py\u001B[0m in \u001B[0;36m_set_scale\u001B[1;34m(self, value, **kwargs)\u001B[0m\n\u001B[0;32m    742\u001B[0m     \u001B[1;32mdef\u001B[0m \u001B[0m_set_scale\u001B[0m\u001B[1;33m(\u001B[0m\u001B[0mself\u001B[0m\u001B[1;33m,\u001B[0m \u001B[0mvalue\u001B[0m\u001B[1;33m,\u001B[0m \u001B[1;33m**\u001B[0m\u001B[0mkwargs\u001B[0m\u001B[1;33m)\u001B[0m\u001B[1;33m:\u001B[0m\u001B[1;33m\u001B[0m\u001B[1;33m\u001B[0m\u001B[0m\n\u001B[0;32m    743\u001B[0m         \u001B[1;32mif\u001B[0m \u001B[1;32mnot\u001B[0m \u001B[0misinstance\u001B[0m\u001B[1;33m(\u001B[0m\u001B[0mvalue\u001B[0m\u001B[1;33m,\u001B[0m \u001B[0mmscale\u001B[0m\u001B[1;33m.\u001B[0m\u001B[0mScaleBase\u001B[0m\u001B[1;33m)\u001B[0m\u001B[1;33m:\u001B[0m\u001B[1;33m\u001B[0m\u001B[1;33m\u001B[0m\u001B[0m\n\u001B[1;32m--> 744\u001B[1;33m             \u001B[0mself\u001B[0m\u001B[1;33m.\u001B[0m\u001B[0m_scale\u001B[0m \u001B[1;33m=\u001B[0m \u001B[0mmscale\u001B[0m\u001B[1;33m.\u001B[0m\u001B[0mscale_factory\u001B[0m\u001B[1;33m(\u001B[0m\u001B[0mvalue\u001B[0m\u001B[1;33m,\u001B[0m \u001B[0mself\u001B[0m\u001B[1;33m,\u001B[0m \u001B[1;33m**\u001B[0m\u001B[0mkwargs\u001B[0m\u001B[1;33m)\u001B[0m\u001B[1;33m\u001B[0m\u001B[1;33m\u001B[0m\u001B[0m\n\u001B[0m\u001B[0;32m    745\u001B[0m         \u001B[1;32melse\u001B[0m\u001B[1;33m:\u001B[0m\u001B[1;33m\u001B[0m\u001B[1;33m\u001B[0m\u001B[0m\n\u001B[0;32m    746\u001B[0m             \u001B[0mself\u001B[0m\u001B[1;33m.\u001B[0m\u001B[0m_scale\u001B[0m \u001B[1;33m=\u001B[0m \u001B[0mvalue\u001B[0m\u001B[1;33m\u001B[0m\u001B[1;33m\u001B[0m\u001B[0m\n",
      "\u001B[1;32mc:\\users\\larsg\\pycharmprojects\\computationalscience\\2021-2022\\introductiontocomputationalscience\\assignment2\\venv\\lib\\site-packages\\matplotlib\\scale.py\u001B[0m in \u001B[0;36mscale_factory\u001B[1;34m(scale, axis, **kwargs)\u001B[0m\n\u001B[0;32m    630\u001B[0m     \u001B[0mscale\u001B[0m \u001B[1;33m=\u001B[0m \u001B[0mscale\u001B[0m\u001B[1;33m.\u001B[0m\u001B[0mlower\u001B[0m\u001B[1;33m(\u001B[0m\u001B[1;33m)\u001B[0m\u001B[1;33m\u001B[0m\u001B[1;33m\u001B[0m\u001B[0m\n\u001B[0;32m    631\u001B[0m     \u001B[0m_api\u001B[0m\u001B[1;33m.\u001B[0m\u001B[0mcheck_in_list\u001B[0m\u001B[1;33m(\u001B[0m\u001B[0m_scale_mapping\u001B[0m\u001B[1;33m,\u001B[0m \u001B[0mscale\u001B[0m\u001B[1;33m=\u001B[0m\u001B[0mscale\u001B[0m\u001B[1;33m)\u001B[0m\u001B[1;33m\u001B[0m\u001B[1;33m\u001B[0m\u001B[0m\n\u001B[1;32m--> 632\u001B[1;33m     \u001B[1;32mreturn\u001B[0m \u001B[0m_scale_mapping\u001B[0m\u001B[1;33m[\u001B[0m\u001B[0mscale\u001B[0m\u001B[1;33m]\u001B[0m\u001B[1;33m(\u001B[0m\u001B[0maxis\u001B[0m\u001B[1;33m,\u001B[0m \u001B[1;33m**\u001B[0m\u001B[0mkwargs\u001B[0m\u001B[1;33m)\u001B[0m\u001B[1;33m\u001B[0m\u001B[1;33m\u001B[0m\u001B[0m\n\u001B[0m\u001B[0;32m    633\u001B[0m \u001B[1;33m\u001B[0m\u001B[0m\n\u001B[0;32m    634\u001B[0m \u001B[1;33m\u001B[0m\u001B[0m\n",
      "\u001B[1;32mc:\\users\\larsg\\pycharmprojects\\computationalscience\\2021-2022\\introductiontocomputationalscience\\assignment2\\venv\\lib\\site-packages\\matplotlib\\scale.py\u001B[0m in \u001B[0;36m__init__\u001B[1;34m(self, axis, **kwargs)\u001B[0m\n\u001B[0;32m    474\u001B[0m             \u001B[1;32mreturn\u001B[0m \u001B[0mbase\u001B[0m\u001B[1;33m,\u001B[0m \u001B[0mlinthresh\u001B[0m\u001B[1;33m,\u001B[0m \u001B[0msubs\u001B[0m\u001B[1;33m,\u001B[0m \u001B[0mlinscale\u001B[0m\u001B[1;33m\u001B[0m\u001B[1;33m\u001B[0m\u001B[0m\n\u001B[0;32m    475\u001B[0m \u001B[1;33m\u001B[0m\u001B[0m\n\u001B[1;32m--> 476\u001B[1;33m         \u001B[0mbase\u001B[0m\u001B[1;33m,\u001B[0m \u001B[0mlinthresh\u001B[0m\u001B[1;33m,\u001B[0m \u001B[0msubs\u001B[0m\u001B[1;33m,\u001B[0m \u001B[0mlinscale\u001B[0m \u001B[1;33m=\u001B[0m \u001B[0m__init__\u001B[0m\u001B[1;33m(\u001B[0m\u001B[1;33m**\u001B[0m\u001B[0mkwargs\u001B[0m\u001B[1;33m)\u001B[0m\u001B[1;33m\u001B[0m\u001B[1;33m\u001B[0m\u001B[0m\n\u001B[0m\u001B[0;32m    477\u001B[0m         \u001B[0mself\u001B[0m\u001B[1;33m.\u001B[0m\u001B[0m_transform\u001B[0m \u001B[1;33m=\u001B[0m \u001B[0mSymmetricalLogTransform\u001B[0m\u001B[1;33m(\u001B[0m\u001B[0mbase\u001B[0m\u001B[1;33m,\u001B[0m \u001B[0mlinthresh\u001B[0m\u001B[1;33m,\u001B[0m \u001B[0mlinscale\u001B[0m\u001B[1;33m)\u001B[0m\u001B[1;33m\u001B[0m\u001B[1;33m\u001B[0m\u001B[0m\n\u001B[0;32m    478\u001B[0m         \u001B[0mself\u001B[0m\u001B[1;33m.\u001B[0m\u001B[0msubs\u001B[0m \u001B[1;33m=\u001B[0m \u001B[0msubs\u001B[0m\u001B[1;33m\u001B[0m\u001B[1;33m\u001B[0m\u001B[0m\n",
      "\u001B[1;32mc:\\users\\larsg\\pycharmprojects\\computationalscience\\2021-2022\\introductiontocomputationalscience\\assignment2\\venv\\lib\\site-packages\\matplotlib\\_api\\deprecation.py\u001B[0m in \u001B[0;36mwrapper\u001B[1;34m(*args, **kwargs)\u001B[0m\n\u001B[0;32m    333\u001B[0m                 f\"for the old name will be dropped %(removal)s.\")\n\u001B[0;32m    334\u001B[0m             \u001B[0mkwargs\u001B[0m\u001B[1;33m[\u001B[0m\u001B[0mnew\u001B[0m\u001B[1;33m]\u001B[0m \u001B[1;33m=\u001B[0m \u001B[0mkwargs\u001B[0m\u001B[1;33m.\u001B[0m\u001B[0mpop\u001B[0m\u001B[1;33m(\u001B[0m\u001B[0mold\u001B[0m\u001B[1;33m)\u001B[0m\u001B[1;33m\u001B[0m\u001B[1;33m\u001B[0m\u001B[0m\n\u001B[1;32m--> 335\u001B[1;33m         \u001B[1;32mreturn\u001B[0m \u001B[0mfunc\u001B[0m\u001B[1;33m(\u001B[0m\u001B[1;33m*\u001B[0m\u001B[0margs\u001B[0m\u001B[1;33m,\u001B[0m \u001B[1;33m**\u001B[0m\u001B[0mkwargs\u001B[0m\u001B[1;33m)\u001B[0m\u001B[1;33m\u001B[0m\u001B[1;33m\u001B[0m\u001B[0m\n\u001B[0m\u001B[0;32m    336\u001B[0m \u001B[1;33m\u001B[0m\u001B[0m\n\u001B[0;32m    337\u001B[0m     \u001B[1;31m# wrapper() must keep the same documented signature as func(): if we\u001B[0m\u001B[1;33m\u001B[0m\u001B[1;33m\u001B[0m\u001B[1;33m\u001B[0m\u001B[0m\n",
      "\u001B[1;32mc:\\users\\larsg\\pycharmprojects\\computationalscience\\2021-2022\\introductiontocomputationalscience\\assignment2\\venv\\lib\\site-packages\\matplotlib\\_api\\deprecation.py\u001B[0m in \u001B[0;36mwrapper\u001B[1;34m(*args, **kwargs)\u001B[0m\n\u001B[0;32m    333\u001B[0m                 f\"for the old name will be dropped %(removal)s.\")\n\u001B[0;32m    334\u001B[0m             \u001B[0mkwargs\u001B[0m\u001B[1;33m[\u001B[0m\u001B[0mnew\u001B[0m\u001B[1;33m]\u001B[0m \u001B[1;33m=\u001B[0m \u001B[0mkwargs\u001B[0m\u001B[1;33m.\u001B[0m\u001B[0mpop\u001B[0m\u001B[1;33m(\u001B[0m\u001B[0mold\u001B[0m\u001B[1;33m)\u001B[0m\u001B[1;33m\u001B[0m\u001B[1;33m\u001B[0m\u001B[0m\n\u001B[1;32m--> 335\u001B[1;33m         \u001B[1;32mreturn\u001B[0m \u001B[0mfunc\u001B[0m\u001B[1;33m(\u001B[0m\u001B[1;33m*\u001B[0m\u001B[0margs\u001B[0m\u001B[1;33m,\u001B[0m \u001B[1;33m**\u001B[0m\u001B[0mkwargs\u001B[0m\u001B[1;33m)\u001B[0m\u001B[1;33m\u001B[0m\u001B[1;33m\u001B[0m\u001B[0m\n\u001B[0m\u001B[0;32m    336\u001B[0m \u001B[1;33m\u001B[0m\u001B[0m\n\u001B[0;32m    337\u001B[0m     \u001B[1;31m# wrapper() must keep the same documented signature as func(): if we\u001B[0m\u001B[1;33m\u001B[0m\u001B[1;33m\u001B[0m\u001B[1;33m\u001B[0m\u001B[0m\n",
      "\u001B[1;32mc:\\users\\larsg\\pycharmprojects\\computationalscience\\2021-2022\\introductiontocomputationalscience\\assignment2\\venv\\lib\\site-packages\\matplotlib\\_api\\deprecation.py\u001B[0m in \u001B[0;36mwrapper\u001B[1;34m(*args, **kwargs)\u001B[0m\n\u001B[0;32m    333\u001B[0m                 f\"for the old name will be dropped %(removal)s.\")\n\u001B[0;32m    334\u001B[0m             \u001B[0mkwargs\u001B[0m\u001B[1;33m[\u001B[0m\u001B[0mnew\u001B[0m\u001B[1;33m]\u001B[0m \u001B[1;33m=\u001B[0m \u001B[0mkwargs\u001B[0m\u001B[1;33m.\u001B[0m\u001B[0mpop\u001B[0m\u001B[1;33m(\u001B[0m\u001B[0mold\u001B[0m\u001B[1;33m)\u001B[0m\u001B[1;33m\u001B[0m\u001B[1;33m\u001B[0m\u001B[0m\n\u001B[1;32m--> 335\u001B[1;33m         \u001B[1;32mreturn\u001B[0m \u001B[0mfunc\u001B[0m\u001B[1;33m(\u001B[0m\u001B[1;33m*\u001B[0m\u001B[0margs\u001B[0m\u001B[1;33m,\u001B[0m \u001B[1;33m**\u001B[0m\u001B[0mkwargs\u001B[0m\u001B[1;33m)\u001B[0m\u001B[1;33m\u001B[0m\u001B[1;33m\u001B[0m\u001B[0m\n\u001B[0m\u001B[0;32m    336\u001B[0m \u001B[1;33m\u001B[0m\u001B[0m\n\u001B[0;32m    337\u001B[0m     \u001B[1;31m# wrapper() must keep the same documented signature as func(): if we\u001B[0m\u001B[1;33m\u001B[0m\u001B[1;33m\u001B[0m\u001B[1;33m\u001B[0m\u001B[0m\n",
      "\u001B[1;32mc:\\users\\larsg\\pycharmprojects\\computationalscience\\2021-2022\\introductiontocomputationalscience\\assignment2\\venv\\lib\\site-packages\\matplotlib\\_api\\deprecation.py\u001B[0m in \u001B[0;36mwrapper\u001B[1;34m(*args, **kwargs)\u001B[0m\n\u001B[0;32m    333\u001B[0m                 f\"for the old name will be dropped %(removal)s.\")\n\u001B[0;32m    334\u001B[0m             \u001B[0mkwargs\u001B[0m\u001B[1;33m[\u001B[0m\u001B[0mnew\u001B[0m\u001B[1;33m]\u001B[0m \u001B[1;33m=\u001B[0m \u001B[0mkwargs\u001B[0m\u001B[1;33m.\u001B[0m\u001B[0mpop\u001B[0m\u001B[1;33m(\u001B[0m\u001B[0mold\u001B[0m\u001B[1;33m)\u001B[0m\u001B[1;33m\u001B[0m\u001B[1;33m\u001B[0m\u001B[0m\n\u001B[1;32m--> 335\u001B[1;33m         \u001B[1;32mreturn\u001B[0m \u001B[0mfunc\u001B[0m\u001B[1;33m(\u001B[0m\u001B[1;33m*\u001B[0m\u001B[0margs\u001B[0m\u001B[1;33m,\u001B[0m \u001B[1;33m**\u001B[0m\u001B[0mkwargs\u001B[0m\u001B[1;33m)\u001B[0m\u001B[1;33m\u001B[0m\u001B[1;33m\u001B[0m\u001B[0m\n\u001B[0m\u001B[0;32m    336\u001B[0m \u001B[1;33m\u001B[0m\u001B[0m\n\u001B[0;32m    337\u001B[0m     \u001B[1;31m# wrapper() must keep the same documented signature as func(): if we\u001B[0m\u001B[1;33m\u001B[0m\u001B[1;33m\u001B[0m\u001B[1;33m\u001B[0m\u001B[0m\n",
      "\u001B[1;31mTypeError\u001B[0m: __init__() got an unexpected keyword argument 'lintreshy'"
     ]
    },
    {
     "data": {
      "text/plain": "<Figure size 432x288 with 1 Axes>",
      "image/png": "[encoded data removed]"
     },
     "metadata": {
      "needs_background": "light"
     },
     "output_type": "display_data"
    }
   ],
   "source": [
    "\n",
    "beta = 0.75\n",
    "gamma = 0.25\n",
    "mu = 0.05\n",
    "population = 1000\n",
    "max_t = 60\n",
    "covlist= []\n",
    "noiselist = []\n",
    "\n",
    "\n",
    "for i in range(100):\n",
    "    S, I, R, T = SIR_demo(population, max_t, beta, gamma, mu)\n",
    "    cov = np.cov(S, I)[0, 1]\n",
    "    covlist.append(cov)\n",
    "    noise = np.std(S)\n",
    "    noiselist.append(noise)\n",
    "\n",
    "\n",
    "plt.figure()\n",
    "plt.plot(noiselist, covlist, '.')\n",
    "plt.yscale('symlog', lintreshy=0.01)\n",
    "plt.ylim(np.min(covlist)*1.5, 0)\n",
    "plt.xlim(2*np.exp()**2)\n",
    "plt.show()\n"
   ],
   "metadata": {
    "collapsed": false,
    "pycharm": {
     "name": "#%%  Hallmark: co-variance\n"
    }
   }
  }
 ],
 "metadata": {
  "kernelspec": {
   "display_name": "Python 3",
   "language": "python",
   "name": "python3"
  },
  "language_info": {
   "codemirror_mode": {
    "name": "ipython",
    "version": 2
   },
   "file_extension": ".py",
   "mimetype": "text/x-python",
   "name": "python",
   "nbconvert_exporter": "python",
   "pygments_lexer": "ipython2",
   "version": "2.7.6"
  }
 },
 "nbformat": 4,
 "nbformat_minor": 0
}